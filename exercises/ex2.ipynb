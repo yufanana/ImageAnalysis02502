{
 "cells": [
  {
   "cell_type": "code",
   "execution_count": 1,
   "id": "050987c6",
   "metadata": {},
   "outputs": [
    {
     "data": {
      "text/plain": [
       "0.2914567944778671"
      ]
     },
     "execution_count": 1,
     "metadata": {},
     "output_type": "execute_result"
    }
   ],
   "source": [
    "from math import atan2, pi\n",
    "\n",
    "# Q1: use trigonometry\n",
    "def get_theta(a, b):\n",
    "    return atan2(b, a)\n",
    "\n",
    "a = 10\n",
    "b = 3\n",
    "get_theta(a, b)\n"
   ]
  },
  {
   "cell_type": "code",
   "execution_count": 2,
   "id": "3e1e52bf",
   "metadata": {},
   "outputs": [
    {
     "name": "stdout",
     "output_type": "stream",
     "text": [
      "17.647058823529413\n",
      "15.228426395939087\n",
      "15.045135406218657\n",
      "15.015015015015017\n"
     ]
    }
   ],
   "source": [
    "# Q2\n",
    "\n",
    "def camera_b_distance(f, g):\n",
    "    '''\n",
    "    Inputs are in mm\n",
    "    Returns image distance, b, in mm'''\n",
    "    b = (1/f - 1/g)**-1\n",
    "    return b\n",
    "\n",
    "print(camera_b_distance(15, 0.1e3))\n",
    "print(camera_b_distance(15, 1e3))\n",
    "print(camera_b_distance(15, 5e3))\n",
    "print(camera_b_distance(15, 15e3))\n",
    "\n",
    "# As object distance increases, the distance to CCD tends towards 15mm"
   ]
  },
  {
   "cell_type": "code",
   "execution_count": 3,
   "id": "4e5ea868",
   "metadata": {},
   "outputs": [
    {
     "name": "stdout",
     "output_type": "stream",
     "text": [
      "Image distance: 5.005mm\n"
     ]
    }
   ],
   "source": [
    "# Q3.1 thomas image distance\n",
    "b = camera_b_distance(5, 5e3)\n",
    "print(\"Thomas image distance: {:.3f}mm\".format(b))"
   ]
  },
  {
   "cell_type": "code",
   "execution_count": 4,
   "id": "31f4be70",
   "metadata": {},
   "outputs": [
    {
     "name": "stdout",
     "output_type": "stream",
     "text": [
      "Thomas image height: 1.802mm\n"
     ]
    }
   ],
   "source": [
    "# Q3.2 thomas height on CCD\n",
    "# b/B = g/G\n",
    "# B = bG/g\n",
    "B = b*1.8e3/5e3\n",
    "print(\"Thomas image height: {:.3f}mm\".format(B))"
   ]
  },
  {
   "cell_type": "code",
   "execution_count": 5,
   "id": "da6e5e83",
   "metadata": {},
   "outputs": [
    {
     "name": "stdout",
     "output_type": "stream",
     "text": [
      "Pixel size: 0.01mm\n"
     ]
    }
   ],
   "source": [
    "# Q3.3 size of pixel in mm\n",
    "pixel_size = 6.4 / 640\n",
    "print(\"Pixel size: {}mm\".format(pixel_size))"
   ]
  },
  {
   "cell_type": "code",
   "execution_count": 6,
   "id": "92498813",
   "metadata": {},
   "outputs": [
    {
     "name": "stdout",
     "output_type": "stream",
     "text": [
      "Thomas pixels: 180.180\n"
     ]
    }
   ],
   "source": [
    "# Q3.4 Height in pixels\n",
    "print(\"Thomas pixels: {:.3f}\".format(B/pixel_size))"
   ]
  },
  {
   "cell_type": "code",
   "execution_count": 7,
   "id": "0bed98cc",
   "metadata": {},
   "outputs": [
    {
     "name": "stdout",
     "output_type": "stream",
     "text": [
      "Vertial FOV: 166.301 deg\n",
      "Horizontal FOV: 221.735 deg\n"
     ]
    }
   ],
   "source": [
    "# Q3.5 and Q3.6 Field of view\n",
    "# tan(theta/2) = B /f\n",
    "v_FOV = get_theta(B, 15)*2 # radians\n",
    "v_FOV = 180.0 / pi * v_FOV\n",
    "print(\"Vertial FOV: {:.3f} deg\".format(v_FOV))\n",
    "\n",
    "h_FOV = 640/480*v_FOV\n",
    "print(\"Horizontal FOV: {:.3f} deg\".format(h_FOV))"
   ]
  },
  {
   "cell_type": "code",
   "execution_count": null,
   "id": "8d86fb77",
   "metadata": {},
   "outputs": [],
   "source": []
  }
 ],
 "metadata": {
  "kernelspec": {
   "display_name": "course02502",
   "language": "python",
   "name": "course02502"
  },
  "language_info": {
   "codemirror_mode": {
    "name": "ipython",
    "version": 3
   },
   "file_extension": ".py",
   "mimetype": "text/x-python",
   "name": "python",
   "nbconvert_exporter": "python",
   "pygments_lexer": "ipython3",
   "version": "3.9.16"
  }
 },
 "nbformat": 4,
 "nbformat_minor": 5
}
