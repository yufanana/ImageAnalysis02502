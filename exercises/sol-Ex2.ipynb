{
 "cells": [
  {
   "cell_type": "code",
   "execution_count": 1,
   "metadata": {},
   "outputs": [],
   "source": [
    "import math \n",
    "import numpy as np "
   ]
  },
  {
   "cell_type": "markdown",
   "metadata": {},
   "source": [
    "### Computing Camera Parameters"
   ]
  },
  {
   "cell_type": "code",
   "execution_count": 4,
   "metadata": {},
   "outputs": [
    {
     "name": "stdout",
     "output_type": "stream",
     "text": [
      "theta is 16.69924423399362 degrees\n"
     ]
    }
   ],
   "source": [
    "# Exercise 1\n",
    "# tan(v) = modstående katete / hosliggende katete \n",
    "\n",
    "a = 10\n",
    "b = 3\n",
    "v_rad = math.atan2(b, a)\n",
    "v_deg = v_rad * 180 / math.pi \n",
    "print(f\"theta is {v_deg} degrees\")"
   ]
  },
  {
   "cell_type": "code",
   "execution_count": 2,
   "metadata": {},
   "outputs": [
    {
     "name": "stdout",
     "output_type": "stream",
     "text": [
      "The distances are 0.01764705882352941, 0.015228426395939085, 0.015045135406218655, 0.015015015015015013 m\n"
     ]
    }
   ],
   "source": [
    "# Exercise 2\n",
    "def camera_b_distance(f, g): \n",
    "    \"\"\"\n",
    "    camera_b_distance returns the distance (b) where the CCD should be placed\n",
    "    when the object distance (g) and the focal length (f) are given\n",
    "    inputs :\n",
    "        f: Focal length\n",
    "        g: Object distance\n",
    "    output:\n",
    "        b, the distance where the CCD should be placed\n",
    "    \"\"\"\n",
    "    return 1/(1 / f - 1 / g)\n",
    "\n",
    "f = 15 / 1000\n",
    "g = np.array([0.1, 1, 5, 15]) \n",
    "\n",
    "b = camera_b_distance(f, g)\n",
    "print(f\"The distances are {b[0]}, {b[1]}, {b[2]}, {b[3]} m\")"
   ]
  },
  {
   "cell_type": "code",
   "execution_count": 5,
   "metadata": {},
   "outputs": [
    {
     "name": "stdout",
     "output_type": "stream",
     "text": [
      "The image is formed at a distance 0.005005005005005005 m from the lense\n",
      "Thomas will be 1.8018018018018018 mm tall on the CCD chip\n",
      "The size of a single pixel is 0.01 mm\n",
      "The heigh of Thomas in pixels will be 180.18018018018017\n",
      "Horisontal field of view is 65.23848614238565 degrees\n",
      "Vertical field of view is 51.28201164861056 degrees\n"
     ]
    }
   ],
   "source": [
    "# Exercise 3\n",
    "# 1 \n",
    "g = 5\n",
    "f = 5 / 1000 \n",
    "b = camera_b_distance(f, g)\n",
    "print(f\"The image is formed at a distance {b} m from the lense\")\n",
    "\n",
    "#2\n",
    "G = 1.8\n",
    "B = b * G / g \n",
    "print(f\"Thomas will be {B * 1000} mm tall on the CCD chip\")\n",
    "\n",
    "# 3\n",
    "pix_size = 4.8 /480\n",
    "print(f\"The size of a single pixel is {pix_size} mm\")\n",
    "\n",
    "# 4\n",
    "print(f\"The heigh of Thomas in pixels will be {(B*1000)/pix_size}\")\n",
    "\n",
    "# 5\n",
    "HOV_field = math.atan2(3.2e-3, f) * 2 * 180 / math.pi\n",
    "print(f\"Horisontal field of view is {HOV_field} degrees\")\n",
    "\n",
    "# 6\n",
    "VER_field = math.atan2(2.4e-3, f) * 2 * 180 / math.pi \n",
    "print(f\"Vertical field of view is {VER_field} degrees\")\n",
    "\n"
   ]
  }
 ],
 "metadata": {
  "kernelspec": {
   "display_name": "specialF2022",
   "language": "python",
   "name": "python3"
  },
  "language_info": {
   "codemirror_mode": {
    "name": "ipython",
    "version": 3
   },
   "file_extension": ".py",
   "mimetype": "text/x-python",
   "name": "python",
   "nbconvert_exporter": "python",
   "pygments_lexer": "ipython3",
   "version": "3.10.4"
  },
  "orig_nbformat": 4,
  "vscode": {
   "interpreter": {
    "hash": "c86c753c43211f76d5b708c60577768ece3c521003da737683acab9edecb659f"
   }
  }
 },
 "nbformat": 4,
 "nbformat_minor": 2
}
